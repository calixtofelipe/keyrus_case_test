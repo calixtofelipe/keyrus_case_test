{
 "cells": [
  {
   "cell_type": "code",
   "execution_count": 3,
   "metadata": {
    "application/vnd.databricks.v1+cell": {
     "inputWidgets": {},
     "nuid": "86846b01-e2a2-4384-811f-b92643ab0497",
     "showTitle": false,
     "title": ""
    }
   },
   "outputs": [],
   "source": [
    "from pyspark.sql.functions import *\n",
    "from pyspark.sql.types import *\n",
    "from pyspark.sql.window import Window\n",
    "import pandas as pd\n",
    "from pyspark.sql import SparkSession"
   ]
  },
  {
   "cell_type": "code",
   "execution_count": 4,
   "metadata": {},
   "outputs": [],
   "source": [
    "# inicialize session and get context spark\n",
    "spark = SparkSession.builder.appName(\"teste\").getOrCreate()\n",
    "sc = spark.sparkContext"
   ]
  },
  {
   "cell_type": "markdown",
   "metadata": {},
   "source": [
    "Criar um data frame com transações por municípios e data de atualização."
   ]
  },
  {
   "cell_type": "code",
   "execution_count": 5,
   "metadata": {},
   "outputs": [],
   "source": [
    "columns = [\"transacao\",\"municipio\",\"estado\", \"data_atualizacao\"]\n",
    "data = [(22000, 'uberlandia', 'MG', '25/02/2021'),\n",
    "        (25000,'rio de janeiro', 'RJ', '22/02/2021'),\n",
    "        (27000,'sao paulo', 'SP', '25/02/2021'),\n",
    "        (35000,'uberlandia', 'MG', '23/02/2021'),\n",
    "        (1000,'uberlandia', 'MG', '21/02/2021'),\n",
    "        (122000,'rio de janeiro', 'RJ', '20/02/2021'),\n",
    "        (200,'belo horizonte', 'MG', '25/02/2021'),\n",
    "        (800,'sao paulo', 'SP', '24/02/2021'),\n",
    "        (222,'belo horizonte', 'MG', '22/02/2021'),\n",
    "        (13000,'rio de janeiro', 'RJ', '23/02/2021'),\n",
    "        (1000,'sao paulo', 'SP', '25/02/2021'),\n",
    "        (30000,'uberlandia', 'MG', '21/02/2021')]\n"
   ]
  },
  {
   "cell_type": "code",
   "execution_count": 6,
   "metadata": {},
   "outputs": [],
   "source": [
    "schema = StructType([ \\\n",
    "    StructField(\"transacao\",IntegerType(),True), \\\n",
    "    StructField(\"municipio\",StringType(),True), \\\n",
    "    StructField(\"estado\",StringType(),True), \\\n",
    "    StructField(\"data_atualizacao\", StringType(), True),\n",
    "  ])"
   ]
  },
  {
   "cell_type": "code",
   "execution_count": 7,
   "metadata": {},
   "outputs": [
    {
     "output_type": "stream",
     "name": "stdout",
     "text": [
      "root\n",
      " |-- transacao: integer (nullable = true)\n",
      " |-- municipio: string (nullable = true)\n",
      " |-- estado: string (nullable = true)\n",
      " |-- data_atualizacao: string (nullable = true)\n",
      "\n",
      "+---------+--------------+------+----------------+\n",
      "|transacao|municipio     |estado|data_atualizacao|\n",
      "+---------+--------------+------+----------------+\n",
      "|22000    |uberlandia    |MG    |25/02/2021      |\n",
      "|25000    |rio de janeiro|RJ    |22/02/2021      |\n",
      "|27000    |sao paulo     |SP    |25/02/2021      |\n",
      "|35000    |uberlandia    |MG    |23/02/2021      |\n",
      "|1000     |uberlandia    |MG    |21/02/2021      |\n",
      "|122000   |rio de janeiro|RJ    |20/02/2021      |\n",
      "|200      |belo horizonte|MG    |25/02/2021      |\n",
      "|800      |sao paulo     |SP    |24/02/2021      |\n",
      "|222      |belo horizonte|MG    |22/02/2021      |\n",
      "|13000    |rio de janeiro|RJ    |23/02/2021      |\n",
      "|1000     |sao paulo     |SP    |25/02/2021      |\n",
      "|30000    |uberlandia    |MG    |21/02/2021      |\n",
      "+---------+--------------+------+----------------+\n",
      "\n"
     ]
    }
   ],
   "source": [
    "df = spark.createDataFrame(data=data,schema=schema)\n",
    "df.printSchema()\n",
    "df.show(truncate=False)"
   ]
  },
  {
   "cell_type": "markdown",
   "metadata": {},
   "source": [
    "Considerando o data frame agrupar por município e considerando a data de atualização definir a ordem da transação."
   ]
  },
  {
   "cell_type": "code",
   "execution_count": 9,
   "metadata": {},
   "outputs": [],
   "source": [
    "df = df.groupby(col('municipio'),col('estado'), col('data_atualizacao')) \\\n",
    "        .sum() \\\n",
    "        .orderBy(col('data_atualizacao')) \\\n",
    "        .withColumnRenamed(\"sum(transacao)\", 'transacao')"
   ]
  },
  {
   "cell_type": "code",
   "execution_count": 8,
   "metadata": {},
   "outputs": [],
   "source": [
    "df = df.withColumn(\"data_atualizacao\", unix_timestamp(col(\"DATA_ATUALIZACAO\"), 'dd/mm/yyyy').cast('timestamp'))"
   ]
  },
  {
   "cell_type": "code",
   "execution_count": 11,
   "metadata": {},
   "outputs": [
    {
     "name": "stdout",
     "output_type": "stream",
     "text": [
      "root\n",
      " |-- municipio: string (nullable = true)\n",
      " |-- estado: string (nullable = true)\n",
      " |-- data_atualizacao: timestamp (nullable = true)\n",
      " |-- transacao: long (nullable = true)\n",
      "\n",
      "+--------------+------+-------------------+---------+\n",
      "|municipio     |estado|data_atualizacao   |transacao|\n",
      "+--------------+------+-------------------+---------+\n",
      "|rio de janeiro|RJ    |2021-01-20 00:02:00|122000   |\n",
      "|uberlandia    |MG    |2021-01-21 00:02:00|31000    |\n",
      "|belo horizonte|MG    |2021-01-22 00:02:00|222      |\n",
      "|rio de janeiro|RJ    |2021-01-22 00:02:00|25000    |\n",
      "|uberlandia    |MG    |2021-01-23 00:02:00|35000    |\n",
      "|rio de janeiro|RJ    |2021-01-23 00:02:00|13000    |\n",
      "|sao paulo     |SP    |2021-01-24 00:02:00|800      |\n",
      "|belo horizonte|MG    |2021-01-25 00:02:00|200      |\n",
      "|sao paulo     |SP    |2021-01-25 00:02:00|28000    |\n",
      "|uberlandia    |MG    |2021-01-25 00:02:00|22000    |\n",
      "+--------------+------+-------------------+---------+\n",
      "\n"
     ]
    }
   ],
   "source": [
    "df.printSchema()\n",
    "df.show(truncate=False)"
   ]
  },
  {
   "cell_type": "code",
   "execution_count": 12,
   "metadata": {},
   "outputs": [],
   "source": [
    "#Rodando todas operações em um comando."
   ]
  },
  {
   "cell_type": "code",
   "execution_count": 10,
   "metadata": {},
   "outputs": [
    {
     "output_type": "stream",
     "name": "stdout",
     "text": [
      "root\n",
      " |-- municipio: string (nullable = true)\n",
      " |-- estado: string (nullable = true)\n",
      " |-- data_atualizacao: timestamp (nullable = true)\n",
      " |-- transacao: long (nullable = true)\n",
      "\n",
      "+--------------+------+-------------------+---------+\n",
      "|municipio     |estado|data_atualizacao   |transacao|\n",
      "+--------------+------+-------------------+---------+\n",
      "|rio de janeiro|RJ    |2021-01-20 00:02:00|122000   |\n",
      "|uberlandia    |MG    |2021-01-21 00:02:00|31000    |\n",
      "|belo horizonte|MG    |2021-01-22 00:02:00|222      |\n",
      "|rio de janeiro|RJ    |2021-01-22 00:02:00|25000    |\n",
      "|rio de janeiro|RJ    |2021-01-23 00:02:00|13000    |\n",
      "|uberlandia    |MG    |2021-01-23 00:02:00|35000    |\n",
      "|sao paulo     |SP    |2021-01-24 00:02:00|800      |\n",
      "|belo horizonte|MG    |2021-01-25 00:02:00|200      |\n",
      "|uberlandia    |MG    |2021-01-25 00:02:00|22000    |\n",
      "|sao paulo     |SP    |2021-01-25 00:02:00|28000    |\n",
      "+--------------+------+-------------------+---------+\n",
      "\n"
     ]
    }
   ],
   "source": [
    "df = df.withColumn(\"data_atualizacao\", unix_timestamp(col(\"DATA_ATUALIZACAO\"), 'dd/mm/yyyy').cast('timestamp')).groupby(col('municipio'),col('estado'), col('data_atualizacao')) \\\n",
    "        .sum() \\\n",
    "        .orderBy(col('data_atualizacao')) \\\n",
    "        .withColumnRenamed(\"sum(transacao)\", 'transacao')\n",
    "df.printSchema()\n",
    "df.show(truncate=False)"
   ]
  },
  {
   "cell_type": "markdown",
   "metadata": {},
   "source": [
    "O data frame final precisa conter um campo ordenando as transações por município\n",
    "- Transação, Município, Estado, data de Atualização e Ordem da Transação"
   ]
  },
  {
   "cell_type": "code",
   "execution_count": 13,
   "metadata": {},
   "outputs": [],
   "source": [
    "w = Window().orderBy(\"MUNICIPIO\")\n",
    "df2 = df.withColumn(\"ORDEM_TRANSACAO\", row_number().over(w))"
   ]
  },
  {
   "cell_type": "code",
   "execution_count": 14,
   "metadata": {},
   "outputs": [
    {
     "name": "stdout",
     "output_type": "stream",
     "text": [
      "root\n",
      " |-- municipio: string (nullable = true)\n",
      " |-- estado: string (nullable = true)\n",
      " |-- data_atualizacao: timestamp (nullable = true)\n",
      " |-- transacao: long (nullable = true)\n",
      " |-- ORDEM_TRANSACAO: integer (nullable = true)\n",
      "\n",
      "+--------------+------+-------------------+---------+---------------+\n",
      "|municipio     |estado|data_atualizacao   |transacao|ORDEM_TRANSACAO|\n",
      "+--------------+------+-------------------+---------+---------------+\n",
      "|belo horizonte|MG    |2021-01-22 00:02:00|222      |1              |\n",
      "|belo horizonte|MG    |2021-01-25 00:02:00|200      |2              |\n",
      "|rio de janeiro|RJ    |2021-01-20 00:02:00|122000   |3              |\n",
      "|rio de janeiro|RJ    |2021-01-22 00:02:00|25000    |4              |\n",
      "|rio de janeiro|RJ    |2021-01-23 00:02:00|13000    |5              |\n",
      "|sao paulo     |SP    |2021-01-24 00:02:00|800      |6              |\n",
      "|sao paulo     |SP    |2021-01-25 00:02:00|28000    |7              |\n",
      "|uberlandia    |MG    |2021-01-21 00:02:00|31000    |8              |\n",
      "|uberlandia    |MG    |2021-01-23 00:02:00|35000    |9              |\n",
      "|uberlandia    |MG    |2021-01-25 00:02:00|22000    |10             |\n",
      "+--------------+------+-------------------+---------+---------------+\n",
      "\n"
     ]
    }
   ],
   "source": [
    "df2.printSchema()\n",
    "df2.show(truncate=False)"
   ]
  },
  {
   "cell_type": "code",
   "execution_count": null,
   "metadata": {},
   "outputs": [],
   "source": [
    "#ordenacao via sql costumo utilizar mais"
   ]
  },
  {
   "cell_type": "code",
   "execution_count": 13,
   "metadata": {},
   "outputs": [],
   "source": [
    "df.createOrReplaceTempView(\"transmun\")"
   ]
  },
  {
   "cell_type": "code",
   "execution_count": 30,
   "metadata": {},
   "outputs": [
    {
     "output_type": "stream",
     "name": "stdout",
     "text": [
      "+--------------+------+-------------------+---------+---------------+\n|     municipio|estado|   data_atualizacao|transacao|ordem_transacao|\n+--------------+------+-------------------+---------+---------------+\n|belo horizonte|    MG|2021-01-22 00:02:00|      222|              1|\n|belo horizonte|    MG|2021-01-25 00:02:00|      200|              2|\n|rio de janeiro|    RJ|2021-01-20 00:02:00|   122000|              3|\n|rio de janeiro|    RJ|2021-01-22 00:02:00|    25000|              4|\n|rio de janeiro|    RJ|2021-01-23 00:02:00|    13000|              5|\n|     sao paulo|    SP|2021-01-24 00:02:00|      800|              6|\n|     sao paulo|    SP|2021-01-25 00:02:00|    28000|              7|\n|    uberlandia|    MG|2021-01-21 00:02:00|    31000|              8|\n|    uberlandia|    MG|2021-01-23 00:02:00|    35000|              9|\n|    uberlandia|    MG|2021-01-25 00:02:00|    22000|             10|\n+--------------+------+-------------------+---------+---------------+\n\n"
     ]
    }
   ],
   "source": [
    "dfsql = spark.sql(\"SELECT municipio, estado, data_atualizacao, transacao, ROW_NUMBER() OVER(ORDER BY municipio ASC) as ordem_transacao FROM transmun\")\n",
    "dfsql.show()"
   ]
  }
 ],
 "metadata": {
  "application/vnd.databricks.v1+notebook": {
   "dashboards": [],
   "language": "python",
   "notebookName": "CASE 2",
   "notebookOrigID": 4252966856001382,
   "widgets": {}
  },
  "kernelspec": {
   "name": "python3",
   "display_name": "Python 3.8.5 64-bit ('.venv': venv)",
   "metadata": {
    "interpreter": {
     "hash": "d44039b822b033c1bab706cff46960e56052bca201294fff7e551a7bd0af15ca"
    }
   }
  },
  "language_info": {
   "codemirror_mode": {
    "name": "ipython",
    "version": 3
   },
   "file_extension": ".py",
   "mimetype": "text/x-python",
   "name": "python",
   "nbconvert_exporter": "python",
   "pygments_lexer": "ipython3",
   "version": "3.8.5-final"
  }
 },
 "nbformat": 4,
 "nbformat_minor": 4
}