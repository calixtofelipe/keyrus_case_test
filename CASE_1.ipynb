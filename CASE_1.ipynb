{
 "cells": [
  {
   "cell_type": "code",
   "execution_count": 62,
   "id": "accepted-lightning",
   "metadata": {},
   "outputs": [],
   "source": [
    "from pyspark.sql import SparkSession, SQLContext\n",
    "from pyspark.sql.functions import *\n",
    "from pyspark.sql.types import *\n",
    "import pandas as pd"
   ]
  },
  {
   "cell_type": "code",
   "execution_count": 2,
   "id": "instrumental-cisco",
   "metadata": {},
   "outputs": [],
   "source": [
    "import os\n",
    "from pyspark import SparkFiles\n",
    "import zipfile\n",
    "import io\n",
    "from config import FTP_DATASOURCE, FTP_DATASOURCE_URI"
   ]
  },
  {
   "cell_type": "code",
   "execution_count": 3,
   "id": "difficult-microphone",
   "metadata": {},
   "outputs": [],
   "source": [
    "# inicialize session and get context spark\n",
    "spark = SparkSession.builder.appName(\"teste\").getOrCreate()\n",
    "sc = spark.sparkContext"
   ]
  },
  {
   "cell_type": "code",
   "execution_count": 31,
   "id": "average-patrick",
   "metadata": {},
   "outputs": [],
   "source": [
    "#function to extract and save database path\n",
    "def zip_extract_save(x):\n",
    "    in_memory_data = io.BytesIO(x[1])\n",
    "    with zipfile.ZipFile(in_memory_data, \"r\") as zipped:\n",
    "            zipped.extractall(\"database\")\n",
    "    \n",
    "zips = sc.binaryFiles(FTP_DATASOURCE_URI)\n",
    "files_data = zips.map(zip_extract_save)\n",
    "files_data.collect()"
   ]
  },
  {
   "cell_type": "code",
   "execution_count": 93,
   "id": "breathing-balloon",
   "metadata": {},
   "outputs": [
    {
     "data": {
      "text/plain": [
       "[  TRANSACAO       MUNICIPIO ESTADO DATA_ATUALIZACAO  Unnamed: 4\n",
       " 0        10      UBERLANDIA     MG       23/02/2021         NaN\n",
       " 1        50       SAO PAULO     SP       24/02/2021         NaN\n",
       " 2         5       SAO PAULO     SP       25/02/2021         NaN\n",
       " 3        20      UBERLANDIA     MG       23/02/2021         NaN\n",
       " 4       100  RIO DE JANEIRO     RJ       23/02/2021         NaN\n",
       " 5     200,2  RIO DE JANEIRO     RJ       24/02/2021         NaN\n",
       " 6     50,41        CAMPINAS     SP       24/02/2021         NaN\n",
       " 7        30        CAMPINAS     SP       24/02/2021         NaN\n",
       " 8       500       SAO PAULO     SP       25/02/2021         NaN]"
      ]
     },
     "execution_count": 93,
     "metadata": {},
     "output_type": "execute_result"
    }
   ],
   "source": [
    "#function unzip save dataframe pandas\n",
    "def zip_extract_dataframe_panda(x):\n",
    "    in_memory_data = io.BytesIO(x[1])\n",
    "    file_obj = zipfile.ZipFile(in_memory_data, \"r\")\n",
    "    #files = [i for i in file_obj.namelist()]\n",
    "    for file in file_obj.namelist():\n",
    "        f = file_obj.open(file)\n",
    "        df = pd.read_csv(f, sep=';')\n",
    "        #dict(zip(files, [file_obj.open(file).read() for file in files]))        \n",
    "    return df\n",
    "\n",
    "\n",
    "zips = sc.binaryFiles(FTP_DATASOURCE_URI)\n",
    "files_data = zips.map(zip_extract)\n",
    "files_data.collect()"
   ]
  },
  {
   "cell_type": "code",
   "execution_count": null,
   "id": "chemical-decade",
   "metadata": {},
   "outputs": [],
   "source": [
    "#Lendo arquivo que foi salvo e reescrevendo"
   ]
  },
  {
   "cell_type": "code",
   "execution_count": 56,
   "id": "olive-variance",
   "metadata": {},
   "outputs": [],
   "source": [
    "df = spark.read.csv('database/data_municipio.csv', sep=';',header=True, ignoreTrailingWhiteSpace=True)\n",
    "df = df.drop('_c4')"
   ]
  },
  {
   "cell_type": "code",
   "execution_count": 82,
   "id": "contrary-packing",
   "metadata": {},
   "outputs": [],
   "source": [
    "# savando como parquet0\n",
    "df.repartition(8).write.format('parquet').save('database/data_municipio.parquet')"
   ]
  }
 ],
 "metadata": {
  "kernelspec": {
   "display_name": "Python 3",
   "language": "python",
   "name": "python3"
  },
  "language_info": {
   "codemirror_mode": {
    "name": "ipython",
    "version": 3
   },
   "file_extension": ".py",
   "mimetype": "text/x-python",
   "name": "python",
   "nbconvert_exporter": "python",
   "pygments_lexer": "ipython3",
   "version": "3.8.5"
  }
 },
 "nbformat": 4,
 "nbformat_minor": 5
}
