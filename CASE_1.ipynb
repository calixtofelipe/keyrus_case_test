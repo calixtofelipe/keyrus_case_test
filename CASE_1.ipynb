{
 "cells": [
  {
   "cell_type": "code",
   "execution_count": 2,
   "id": "alien-words",
   "metadata": {},
   "outputs": [],
   "source": [
    "from pyspark.sql import SparkSession, SQLContext\n",
    "from pyspark.sql.functions import *\n",
    "from pyspark.sql.types import *\n",
    "import pandas as pd"
   ]
  },
  {
   "cell_type": "code",
   "execution_count": 3,
   "id": "eastern-brighton",
   "metadata": {},
   "outputs": [],
   "source": [
    "import os\n",
    "from pyspark import SparkFiles\n",
    "import zipfile\n",
    "import io\n",
    "from config import FTP_DATASOURCE, FTP_DATASOURCE_URI"
   ]
  },
  {
   "cell_type": "code",
   "execution_count": 4,
   "id": "alert-pillow",
   "metadata": {},
   "outputs": [],
   "source": [
    "# inicialize session and get context spark\n",
    "spark = SparkSession.builder.appName(\"teste\").getOrCreate()\n",
    "sc = spark.sparkContext"
   ]
  },
  {
   "cell_type": "code",
   "execution_count": 31,
   "id": "smart-change",
   "metadata": {},
   "outputs": [],
   "source": [
    "#function to extract and save database path\n",
    "def zip_extract_save(x):\n",
    "    in_memory_data = io.BytesIO(x[1])\n",
    "    with zipfile.ZipFile(in_memory_data, \"r\") as zipped:\n",
    "            zipped.extractall(\"database\")\n",
    "    \n",
    "zips = sc.binaryFiles(FTP_DATASOURCE_URI)\n",
    "files_data = zips.map(zip_extract_save)\n",
    "files_data.collect()"
   ]
  },
  {
   "cell_type": "code",
   "execution_count": 52,
   "id": "caring-finance",
   "metadata": {},
   "outputs": [],
   "source": [
    "#function unzip save dataframe\n",
    "def zip_extract_dataframe_panda(x):\n",
    "    in_memory_data = io.BytesIO(x[1])\n",
    "    \n",
    "    zf = zipfile.ZipFile(in_memory_data)\n",
    "    f = zf.read('data_municipio.csv').decode('UTF-8')\n",
    "    seq = 0\n",
    "    all_lines = []\n",
    "    for line in f.split('\\r'):\n",
    "        seq+=1\n",
    "        if(seq>1 and line !='\\n'):\n",
    "            l = line.split(';')\n",
    "            all_lines.append(tuple(l[0:4]))\n",
    "        \n",
    "        #if seq==2:\n",
    "        #    break\n",
    "    #file_obj = zipfile.ZipFile(in_memory_data, \"r\")\n",
    "    ##files = [i for i in file_obj.namelist()]\n",
    "    #for file in file_obj.namelist():\n",
    "    #    f = file_obj.open(file)\n",
    "     #   f.seek(0)\n",
    "      #  df = f.readline()\n",
    "       # break\n",
    "        #dict(zip(files, [file_obj.open(file).read() for file in files]))        \n",
    "    return all_lines\n",
    "\n",
    "\n",
    "zips = sc.binaryFiles(FTP_DATASOURCE_URI)\n",
    "files_data = zips.map(zip_extract_dataframe_panda)\n",
    "schema = StructType([ \\\n",
    "    StructField(\"transacao\",StringType(),True), \\\n",
    "    StructField(\"municipio\",StringType(),True), \\\n",
    "    StructField(\"estado\",StringType(),True), \\\n",
    "    StructField(\"data_atualizacao\", StringType(), True),\n",
    "  ])\n",
    "df = spark.createDataFrame(files_data.collect()[0],schema)"
   ]
  },
  {
   "cell_type": "code",
   "execution_count": 53,
   "id": "charged-wyoming",
   "metadata": {},
   "outputs": [
    {
     "name": "stdout",
     "output_type": "stream",
     "text": [
      "+---------+--------------+------+----------------+\n",
      "|transacao|     municipio|estado|data_atualizacao|\n",
      "+---------+--------------+------+----------------+\n",
      "|       10|    UBERLANDIA|    MG|      23/02/2021|\n",
      "|       50|     SAO PAULO|    SP|      24/02/2021|\n",
      "|        5|     SAO PAULO|    SP|      25/02/2021|\n",
      "|       20|    UBERLANDIA|    MG|      23/02/2021|\n",
      "|      100|RIO DE JANEIRO|    RJ|      23/02/2021|\n",
      "|    200,2|RIO DE JANEIRO|    RJ|      24/02/2021|\n",
      "|    50,41|      CAMPINAS|    SP|      24/02/2021|\n",
      "|       30|      CAMPINAS|    SP|      24/02/2021|\n",
      "|      500|     SAO PAULO|    SP|      25/02/2021|\n",
      "+---------+--------------+------+----------------+\n",
      "\n"
     ]
    }
   ],
   "source": [
    "df.show()"
   ]
  },
  {
   "cell_type": "code",
   "execution_count": 54,
   "id": "sacred-effects",
   "metadata": {},
   "outputs": [],
   "source": [
    "df.write.format('parquet').save('database/data_municipio_zip_2_df')"
   ]
  },
  {
   "cell_type": "code",
   "execution_count": null,
   "id": "different-freeware",
   "metadata": {},
   "outputs": [],
   "source": [
    "#Lendo arquivo que foi salvo e reescrevendo"
   ]
  },
  {
   "cell_type": "code",
   "execution_count": 56,
   "id": "smoking-seeking",
   "metadata": {},
   "outputs": [],
   "source": [
    "df = spark.read.csv('database/data_municipio.csv', sep=';',header=True, ignoreTrailingWhiteSpace=True)\n",
    "df = df.drop('_c4')"
   ]
  },
  {
   "cell_type": "code",
   "execution_count": 82,
   "id": "secure-rebel",
   "metadata": {},
   "outputs": [],
   "source": [
    "# savando como parquet0\n",
    "df.repartition(8).write.format('parquet').save('database/data_municipio.parquet')"
   ]
  }
 ],
 "metadata": {
  "kernelspec": {
   "display_name": "Python 3",
   "language": "python",
   "name": "python3"
  },
  "language_info": {
   "codemirror_mode": {
    "name": "ipython",
    "version": 3
   },
   "file_extension": ".py",
   "mimetype": "text/x-python",
   "name": "python",
   "nbconvert_exporter": "python",
   "pygments_lexer": "ipython3",
   "version": "3.8.5"
  }
 },
 "nbformat": 4,
 "nbformat_minor": 5
}
